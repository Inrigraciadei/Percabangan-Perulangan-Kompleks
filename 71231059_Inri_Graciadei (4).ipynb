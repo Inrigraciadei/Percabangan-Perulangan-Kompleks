{
  "nbformat": 4,
  "nbformat_minor": 0,
  "metadata": {
    "colab": {
      "provenance": []
    },
    "kernelspec": {
      "name": "python3",
      "display_name": "Python 3"
    },
    "language_info": {
      "name": "python"
    }
  },
  "cells": [
    {
      "cell_type": "code",
      "execution_count": null,
      "metadata": {
        "id": "KyMXdatV8JLR"
      },
      "outputs": [],
      "source": []
    },
    {
      "cell_type": "markdown",
      "source": [
        "Soal 1"
      ],
      "metadata": {
        "id": "fzIH8Fl78Lg1"
      }
    },
    {
      "cell_type": "code",
      "source": [
        "a = int(input(\"Masukkan angka: \"))\n",
        "\n",
        "for i in range(a - 1, 1, -1):\n",
        "  bilangan_prima = True\n",
        "  for j in range(2, i-1):\n",
        "    if i % j == 0:\n",
        "      bilangan_prima = False\n",
        "      break\n",
        "\n",
        "  if bilangan_prima:\n",
        "    print(f\"Bilangan prima terdekat kurang dari {a} yaitu {i}\")\n",
        "    break"
      ],
      "metadata": {
        "colab": {
          "base_uri": "https://localhost:8080/"
        },
        "id": "8ZD58GAy8O8z",
        "outputId": "583d2728-4c92-4e8b-ec2b-403019bc0f8d"
      },
      "execution_count": 1,
      "outputs": [
        {
          "output_type": "stream",
          "name": "stdout",
          "text": [
            "Masukkan angka: 10\n",
            "Bilangan prima terdekat kurang dari 10 yaitu 7\n"
          ]
        }
      ]
    },
    {
      "cell_type": "markdown",
      "source": [
        "Soal 2"
      ],
      "metadata": {
        "id": "VHI2I70B8amC"
      }
    },
    {
      "cell_type": "code",
      "source": [
        "a = int(input(\"Masukkan nilai a: \"))\n",
        "\n",
        "for b in range(0, a):\n",
        "    hasil = 1\n",
        "\n",
        "    for c in range(1, a - b + 1):\n",
        "        hasil *= c\n",
        "    print(hasil, \" \", end=\"\")\n",
        "\n",
        "    for d in range(a - b, 0, -1):\n",
        "        print(d, \" \", end=\"\")\n",
        "\n",
        "    print()"
      ],
      "metadata": {
        "colab": {
          "base_uri": "https://localhost:8080/"
        },
        "id": "Hm9JQ2Ee8byx",
        "outputId": "7b1ededf-770d-4ab1-909a-1bbef7f3b9c3"
      },
      "execution_count": 2,
      "outputs": [
        {
          "output_type": "stream",
          "name": "stdout",
          "text": [
            "Masukkan nilai a: 6\n",
            "720  6  5  4  3  2  1  \n",
            "120  5  4  3  2  1  \n",
            "24  4  3  2  1  \n",
            "6  3  2  1  \n",
            "2  2  1  \n",
            "1  1  \n"
          ]
        }
      ]
    },
    {
      "cell_type": "markdown",
      "source": [
        "Soal 3"
      ],
      "metadata": {
        "id": "M6lgadq58ot5"
      }
    },
    {
      "cell_type": "code",
      "source": [
        "lebar = int(input(\"Masukkan lebar yang anda inginkan: \"))\n",
        "tinggi = int(input(\"Masukkan tinggi yang anda inginkan: \"))\n",
        "\n",
        "bilangan = 0\n",
        "for i in range(1, tinggi + 1):\n",
        "    for i in range(1, lebar + 1):\n",
        "        bilangan += 1\n",
        "        print(bilangan, \" \", end=\"\")\n",
        "\n",
        "    print()"
      ],
      "metadata": {
        "colab": {
          "base_uri": "https://localhost:8080/"
        },
        "id": "1J8zm74B8p3o",
        "outputId": "7ac3d40c-67d9-4118-ff80-58ba95883040"
      },
      "execution_count": 3,
      "outputs": [
        {
          "output_type": "stream",
          "name": "stdout",
          "text": [
            "Masukkan lebar yang anda inginkan: 4\n",
            "Masukkan tinggi yang anda inginkan: 5\n",
            "1  2  3  4  \n",
            "5  6  7  8  \n",
            "9  10  11  12  \n",
            "13  14  15  16  \n",
            "17  18  19  20  \n"
          ]
        }
      ]
    }
  ]
}